{
 "cells": [
  {
   "cell_type": "markdown",
   "metadata": {},
   "source": [
    "# TensorFlow\n",
    "## 定义\n",
    "    使用数据流图进行数据计算的开源软件库\n",
    "    TensorFlow separates definition of computations from their execution\n",
    "    Phase 1: assemble a **graph**\n",
    "    Phase 2: use a **session** to execute operations in the graph.\n",
    "\n",
    "## 目标\n",
    "    1. Understand TF’s computation graph approach\n",
    "    2. Explore TF’s built-in functions and classes\n",
    "    3. Learn how to build and structure models best suited for a deep learning project\n",
    "## Getting Started\n",
    "    \n",
    "    ``` python\n",
    "        import tensorflow as tf\n",
    "        a = tf.add(3, 5)\n",
    "    ```\n",
    "    Nodes: operators, variables, and constants\n",
    "    Edges: tensors\n",
    "    \n",
    "    > Different from graphs we might be familiar in which nodes are values, edges are functions\n",
    "    \n",
    "    Tensors are data.\n",
    "    TensorFlow = tensor + flow = data + flow "
   ]
  },
  {
   "cell_type": "code",
   "execution_count": null,
   "metadata": {},
   "outputs": [],
   "source": []
  }
 ],
 "metadata": {
  "kernelspec": {
   "display_name": "Python 3",
   "language": "python",
   "name": "python3"
  },
  "language_info": {
   "codemirror_mode": {
    "name": "ipython",
    "version": 3
   },
   "file_extension": ".py",
   "mimetype": "text/x-python",
   "name": "python",
   "nbconvert_exporter": "python",
   "pygments_lexer": "ipython3",
   "version": "3.6.5"
  }
 },
 "nbformat": 4,
 "nbformat_minor": 2
}
